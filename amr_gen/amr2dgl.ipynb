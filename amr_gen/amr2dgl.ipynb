{
 "cells": [
  {
   "cell_type": "code",
   "execution_count": 3,
   "metadata": {},
   "outputs": [
    {
     "data": {
      "text/plain": [
       "'/home/karish19471/btp/amr'"
      ]
     },
     "execution_count": 3,
     "metadata": {},
     "output_type": "execute_result"
    }
   ],
   "source": [
    "pwd"
   ]
  },
  {
   "cell_type": "markdown",
   "metadata": {},
   "source": [
    "### Converting the AMR graphs into the required format"
   ]
  },
  {
   "cell_type": "code",
   "execution_count": 4,
   "metadata": {},
   "outputs": [
    {
     "name": "stderr",
     "output_type": "stream",
     "text": [
      "/home/karish19471/.local/lib/python3.8/site-packages/tqdm/auto.py:22: TqdmWarning: IProgress not found. Please update jupyter and ipywidgets. See https://ipywidgets.readthedocs.io/en/stable/user_install.html\n",
      "  from .autonotebook import tqdm as notebook_tqdm\n"
     ]
    }
   ],
   "source": [
    "import glob\n",
    "import networkx as nx\n",
    "import penman\n",
    "import amrlib\n",
    "import pandas as pd\n",
    "import penman\n",
    "from penman import constant\n",
    "from amrlib.graph_processing.annotator import add_lemmas\n",
    "from amrlib.alignments.rbw_aligner import RBWAligner\n",
    "from penman.models.noop import NoOpModel\n",
    "import ast\n",
    "import pickle\n",
    "import os\n",
    "import dgl\n",
    "import json\n",
    "import numpy as np\n",
    "from sklearn.model_selection import train_test_split"
   ]
  },
  {
   "cell_type": "code",
   "execution_count": 102,
   "metadata": {},
   "outputs": [],
   "source": [
    "DATASET = \"twitter16\""
   ]
  },
  {
   "cell_type": "code",
   "execution_count": 103,
   "metadata": {},
   "outputs": [],
   "source": [
    "merged_amr = glob.glob(f\"{DATASET}_amr/{DATASET}_amr_merge/*.amr.penman\")\n",
    "df = pd.read_csv(f'{DATASET}_amr/{DATASET}.csv')\n",
    "# df = pd.read_csv(f'{DATASET}_amr/{DATASET}.tsv', sep = '\\t')"
   ]
  },
  {
   "cell_type": "code",
   "execution_count": 87,
   "metadata": {},
   "outputs": [],
   "source": [
    "def var2word(p_graph):\n",
    "    v2w = {}\n",
    "    for (source, _, target) in p_graph.instances():\n",
    "        v2w[source] = target\n",
    "    return v2w"
   ]
  },
  {
   "cell_type": "code",
   "execution_count": 78,
   "metadata": {},
   "outputs": [],
   "source": [
    "def get_glove():\n",
    "    glove = {}\n",
    "    f = open('/home/karish19471/glove/glove.6B.100d.txt')\n",
    "    for line in f:\n",
    "        values = line.split()\n",
    "        word = values[0]\n",
    "        coefs = np.asarray(values[1:], dtype='float32')\n",
    "        glove[word] = coefs\n",
    "    return glove"
   ]
  },
  {
   "cell_type": "code",
   "execution_count": 28,
   "metadata": {},
   "outputs": [],
   "source": [
    "def to_dict(d):\n",
    "    return {i: {'feat':j} for i,j in d.items()}"
   ]
  },
  {
   "cell_type": "code",
   "execution_count": 65,
   "metadata": {},
   "outputs": [],
   "source": [
    "def id2label(df):\n",
    "    return dict(zip(df['id'], zip(df['labels'], df['text'])))"
   ]
  },
  {
   "cell_type": "code",
   "execution_count": 15,
   "metadata": {},
   "outputs": [],
   "source": [
    "glove = get_glove()"
   ]
  },
  {
   "cell_type": "code",
   "execution_count": 104,
   "metadata": {},
   "outputs": [],
   "source": [
    "i2l = id2label(df)"
   ]
  },
  {
   "cell_type": "code",
   "execution_count": 105,
   "metadata": {},
   "outputs": [
    {
     "name": "stderr",
     "output_type": "stream",
     "text": [
      "ignoring epigraph data for duplicate triple: ('c13-14', ':ARG1', 'c13-11')\n"
     ]
    },
    {
     "name": "stdout",
     "output_type": "stream",
     "text": [
      "0\n",
      "1\n",
      "2\n",
      "3\n",
      "4\n",
      "5\n",
      "6\n",
      "7\n",
      "8\n",
      "9\n",
      "10\n",
      "11\n",
      "12\n",
      "13\n",
      "14\n",
      "15\n",
      "16\n"
     ]
    },
    {
     "name": "stderr",
     "output_type": "stream",
     "text": [
      "ignoring epigraph data for duplicate triple: ('c23-3', ':ARG0', 'c23-2')\n"
     ]
    },
    {
     "name": "stdout",
     "output_type": "stream",
     "text": [
      "17\n",
      "18\n",
      "19\n",
      "20\n",
      "21\n",
      "22\n",
      "23\n",
      "24\n"
     ]
    },
    {
     "name": "stderr",
     "output_type": "stream",
     "text": [
      "ignoring epigraph data for duplicate triple: ('c5-5', ':mod', 'c5-8')\n",
      "ignoring epigraph data for duplicate triple: ('c26-3', ':name', 'c26-5')\n",
      "ignoring epigraph data for duplicate triple: ('c41-2', ':name', 'c41-3')\n"
     ]
    },
    {
     "name": "stdout",
     "output_type": "stream",
     "text": [
      "25\n",
      "26\n",
      "27\n",
      "28\n",
      "29\n",
      "30\n",
      "31\n",
      "32\n",
      "33\n",
      "34\n",
      "35\n",
      "36\n",
      "37\n",
      "38\n",
      "39\n",
      "40\n",
      "41\n",
      "42\n",
      "43\n",
      "44\n",
      "45\n",
      "46\n",
      "47\n",
      "48\n",
      "49\n",
      "50\n",
      "51\n",
      "52\n",
      "53\n",
      "54\n",
      "55\n",
      "56\n",
      "57\n",
      "58\n",
      "59\n",
      "60\n",
      "61\n",
      "62\n",
      "63\n",
      "64\n",
      "65\n",
      "66\n",
      "67\n",
      "68\n",
      "69\n",
      "70\n",
      "71\n",
      "72\n",
      "73\n",
      "74\n",
      "75\n",
      "76\n",
      "77\n",
      "78\n",
      "79\n",
      "80\n",
      "81\n",
      "82\n",
      "83\n"
     ]
    },
    {
     "name": "stderr",
     "output_type": "stream",
     "text": [
      "ignoring epigraph data for duplicate triple: ('c15-5', ':ARG1', 'c15-6')\n"
     ]
    },
    {
     "name": "stdout",
     "output_type": "stream",
     "text": [
      "84\n",
      "85\n",
      "86\n",
      "87\n",
      "88\n",
      "89\n",
      "90\n",
      "91\n",
      "92\n",
      "93\n",
      "94\n",
      "95\n",
      "96\n",
      "97\n",
      "98\n",
      "99\n",
      "100\n",
      "101\n",
      "102\n",
      "103\n",
      "104\n",
      "105\n",
      "106\n",
      "107\n",
      "108\n",
      "109\n",
      "110\n",
      "111\n",
      "112\n",
      "113\n",
      "114\n",
      "115\n",
      "116\n",
      "117\n",
      "118\n"
     ]
    },
    {
     "name": "stderr",
     "output_type": "stream",
     "text": [
      "ignoring epigraph data for duplicate triple: ('c16-11', ':ARG0', 'c16-3')\n",
      "ignoring epigraph data for duplicate triple: ('c16-11', ':ARG1', 'c16-0')\n",
      "ignoring epigraph data for duplicate triple: ('c16-11', ':ARG2', 'c16-4')\n",
      "ignoring epigraph data for duplicate triple: ('c16-11', ':polarity', '-')\n",
      "ignoring epigraph data for duplicate triple: ('c25-2', ':mode', 'expressive')\n",
      "ignoring epigraph data for duplicate triple: ('c44-5', ':ARG1', 'c44-11')\n"
     ]
    },
    {
     "name": "stdout",
     "output_type": "stream",
     "text": [
      "119\n",
      "120\n",
      "121\n",
      "122\n",
      "123\n",
      "124\n",
      "125\n",
      "126\n",
      "127\n",
      "128\n",
      "129\n",
      "130\n",
      "131\n",
      "132\n",
      "133\n",
      "134\n"
     ]
    },
    {
     "name": "stderr",
     "output_type": "stream",
     "text": [
      "ignoring epigraph data for duplicate triple: ('c2-5', ':ARG0', 'c2-11')\n",
      "ignoring epigraph data for duplicate triple: ('c10-18', ':mod', 'c10-15')\n"
     ]
    },
    {
     "name": "stdout",
     "output_type": "stream",
     "text": [
      "135\n",
      "136\n",
      "137\n",
      "138\n",
      "139\n",
      "140\n",
      "141\n",
      "142\n",
      "143\n",
      "144\n",
      "145\n",
      "146\n",
      "147\n",
      "148\n",
      "149\n",
      "150\n",
      "151\n",
      "152\n",
      "153\n",
      "154\n",
      "155\n",
      "156\n",
      "157\n",
      "158\n",
      "159\n"
     ]
    },
    {
     "name": "stderr",
     "output_type": "stream",
     "text": [
      "ignoring epigraph data for duplicate triple: ('c29-0', ':ARG1', 'c29-0')\n",
      "ignoring epigraph data for duplicate triple: ('c29-0', ':ARG1', 'c29-0')\n",
      "ignoring epigraph data for duplicate triple: ('c29-0', ':ARG1', 'c29-0')\n",
      "ignoring epigraph data for duplicate triple: ('c29-0', ':ARG1', 'c29-0')\n",
      "ignoring epigraph data for duplicate triple: ('c29-0', ':ARG1', 'c29-0')\n",
      "ignoring epigraph data for duplicate triple: ('c29-0', ':ARG1', 'c29-0')\n",
      "ignoring epigraph data for duplicate triple: ('c29-0', ':ARG1', 'c29-0')\n",
      "ignoring epigraph data for duplicate triple: ('c29-0', ':ARG1', 'c29-0')\n",
      "ignoring epigraph data for duplicate triple: ('c29-0', ':ARG1', 'c29-0')\n",
      "ignoring epigraph data for duplicate triple: ('c29-0', ':ARG1', 'c29-0')\n",
      "ignoring epigraph data for duplicate triple: ('c29-0', ':ARG1', 'c29-0')\n",
      "ignoring epigraph data for duplicate triple: ('c29-0', ':ARG1', 'c29-0')\n",
      "ignoring epigraph data for duplicate triple: ('c29-0', ':ARG1', 'c29-0')\n",
      "ignoring epigraph data for duplicate triple: ('c29-0', ':ARG1', 'c29-0')\n",
      "ignoring epigraph data for duplicate triple: ('c29-0', ':ARG1', 'c29-0')\n",
      "ignoring epigraph data for duplicate triple: ('c29-0', ':ARG1', 'c29-0')\n",
      "ignoring epigraph data for duplicate triple: ('c29-0', ':ARG1', 'c29-0')\n",
      "ignoring epigraph data for duplicate triple: ('c29-0', ':ARG1', 'c29-0')\n",
      "ignoring epigraph data for duplicate triple: ('c14-6', ':ARG0', 'c14-5')\n"
     ]
    },
    {
     "name": "stdout",
     "output_type": "stream",
     "text": [
      "160\n",
      "161\n",
      "162\n",
      "163\n",
      "164\n",
      "165\n",
      "166\n",
      "167\n",
      "168\n",
      "169\n",
      "170\n",
      "171\n",
      "172\n",
      "173\n",
      "174\n",
      "175\n",
      "176\n",
      "177\n",
      "178\n",
      "179\n",
      "180\n",
      "181\n",
      "182\n",
      "183\n",
      "184\n",
      "185\n",
      "186\n",
      "187\n",
      "188\n",
      "189\n",
      "190\n",
      "191\n",
      "192\n",
      "193\n",
      "194\n",
      "195\n",
      "196\n",
      "197\n",
      "198\n",
      "199\n",
      "200\n",
      "201\n",
      "202\n",
      "203\n",
      "204\n",
      "205\n",
      "206\n",
      "207\n",
      "208\n",
      "209\n",
      "210\n",
      "211\n",
      "212\n",
      "213\n",
      "214\n",
      "215\n",
      "216\n",
      "217\n",
      "218\n",
      "219\n",
      "220\n",
      "221\n",
      "222\n",
      "223\n",
      "224\n",
      "225\n",
      "226\n",
      "227\n",
      "228\n",
      "229\n",
      "230\n",
      "231\n",
      "232\n",
      "233\n",
      "234\n",
      "235\n",
      "236\n",
      "237\n",
      "238\n",
      "239\n",
      "240\n",
      "241\n",
      "242\n",
      "243\n",
      "244\n",
      "245\n"
     ]
    },
    {
     "name": "stderr",
     "output_type": "stream",
     "text": [
      "ignoring epigraph data for duplicate triple: ('c7-3', ':ARG1', 'c7-6')\n",
      "ignoring epigraph data for duplicate triple: ('c8-3', ':ARG1', 'c8-6')\n",
      "ignoring epigraph data for duplicate triple: ('c1-2', ':ARG0', 'c1-5')\n",
      "ignoring epigraph data for duplicate triple: ('c2-11', ':ARG0', 'c2-9')\n"
     ]
    },
    {
     "name": "stdout",
     "output_type": "stream",
     "text": [
      "246\n",
      "247\n",
      "248\n",
      "249\n",
      "250\n",
      "251\n",
      "252\n",
      "253\n",
      "254\n",
      "255\n",
      "256\n",
      "257\n",
      "258\n",
      "259\n",
      "260\n",
      "261\n",
      "262\n",
      "263\n",
      "264\n",
      "265\n",
      "266\n",
      "267\n",
      "268\n",
      "269\n",
      "270\n",
      "271\n",
      "272\n"
     ]
    },
    {
     "name": "stderr",
     "output_type": "stream",
     "text": [
      "ignoring epigraph data for duplicate triple: ('c45-10', ':time', 'c45-6')\n",
      "ignoring epigraph data for duplicate triple: ('c10-2', ':ARG2', 'c10-11')\n",
      "ignoring epigraph data for duplicate triple: ('c27-2', ':name', 'c27-6')\n"
     ]
    },
    {
     "name": "stdout",
     "output_type": "stream",
     "text": [
      "273\n",
      "274\n",
      "275\n",
      "276\n",
      "277\n",
      "278\n",
      "279\n",
      "280\n",
      "281\n",
      "282\n",
      "283\n",
      "284\n",
      "285\n",
      "286\n",
      "287\n",
      "288\n",
      "289\n"
     ]
    },
    {
     "name": "stderr",
     "output_type": "stream",
     "text": [
      "ignoring epigraph data for duplicate triple: ('c46-13', ':ARG1', 'c46-7')\n"
     ]
    },
    {
     "name": "stdout",
     "output_type": "stream",
     "text": [
      "290\n"
     ]
    },
    {
     "name": "stderr",
     "output_type": "stream",
     "text": [
      "ignoring epigraph data for duplicate triple: ('c12-5', ':ARG1', 'c12-1')\n"
     ]
    },
    {
     "name": "stdout",
     "output_type": "stream",
     "text": [
      "291\n",
      "292\n",
      "293\n",
      "294\n",
      "295\n",
      "296\n",
      "297\n",
      "298\n",
      "299\n",
      "300\n",
      "301\n",
      "302\n",
      "303\n",
      "304\n",
      "305\n",
      "306\n",
      "307\n",
      "308\n",
      "309\n",
      "310\n",
      "311\n",
      "312\n",
      "313\n",
      "314\n",
      "315\n",
      "316\n",
      "317\n",
      "318\n",
      "319\n",
      "320\n",
      "321\n",
      "322\n",
      "323\n",
      "324\n",
      "325\n",
      "326\n",
      "327\n"
     ]
    },
    {
     "name": "stderr",
     "output_type": "stream",
     "text": [
      "ignoring epigraph data for duplicate triple: ('c47-5', ':mod', 'c47-1')\n",
      "ignoring epigraph data for duplicate triple: ('c9-20', ':COREF', 'c10-4')\n",
      "ignoring epigraph data for duplicate triple: ('c14-9', ':mod', 'c14-9')\n"
     ]
    },
    {
     "name": "stdout",
     "output_type": "stream",
     "text": [
      "328\n",
      "329\n",
      "330\n",
      "331\n",
      "332\n",
      "333\n",
      "334\n",
      "335\n",
      "336\n",
      "337\n",
      "338\n",
      "339\n",
      "340\n",
      "341\n",
      "342\n",
      "343\n",
      "344\n",
      "345\n",
      "346\n",
      "347\n",
      "348\n",
      "349\n",
      "350\n",
      "351\n",
      "352\n",
      "353\n",
      "354\n",
      "355\n",
      "356\n",
      "357\n",
      "358\n",
      "359\n",
      "360\n",
      "361\n"
     ]
    }
   ],
   "source": [
    "EMBEDDING_DIM = 100\n",
    "dataset = []\n",
    "lv = 0\n",
    "for curr in merged_amr:\n",
    "    print(lv)\n",
    "    p_graph = penman.load(curr, model = NoOpModel())[0]\n",
    "    name = curr[curr.rfind('/')+1:curr.rfind('.amr')]\n",
    "    v2w = var2word(p_graph)\n",
    "    nx_graph = nx.MultiDiGraph()\n",
    "    nx_graph.add_edges_from([(s, t) for s, _, t in p_graph.edges()])#TODO: Add edges from instances as well\n",
    "\n",
    "    #-----------------------------------extracting subgraphs----------------------------------------------------\n",
    "    #sorted ordering is a must in order to preserve the node order in case of using from_networkx\n",
    "    temp= nx.convert_node_labels_to_integers(nx_graph, ordering = 'sorted', label_attribute= 'original')\n",
    "    original2new  = {temp.nodes[i]['original']:i for i in temp.nodes}\n",
    "    subgraphs = [[ original2new[j] for j in i] for i in eval(p_graph.metadata['subgraphs'])]\n",
    "    #-----------------------------------------------------------------------------------------------------------\n",
    "\n",
    "    MAP = {i:glove.get(v2w[i], [0]*EMBEDDING_DIM) for i in nx_graph.nodes()}\n",
    "    attr= to_dict(MAP)\n",
    "    nx.set_node_attributes(nx_graph, attr)\n",
    "    try:\n",
    "        dgl_graph = dgl.from_networkx(nx_graph, node_attrs=['feat'])\n",
    "    except:\n",
    "        continue\n",
    "    (source, target) = dgl_graph.edges()\n",
    "    label, content = i2l[name]\n",
    "    sample = {'label':label, 'graph': dgl_graph, 'content': content, 'id': name, 'subgraphs':subgraphs}\n",
    "    dataset.append(sample)\n",
    "    lv+=1"
   ]
  },
  {
   "cell_type": "code",
   "execution_count": 106,
   "metadata": {},
   "outputs": [],
   "source": [
    "with open(f\"{DATASET}_amr/{DATASET}.pkl\", \"wb\") as f:\n",
    "    pickle.dump(dataset, f)"
   ]
  },
  {
   "cell_type": "code",
   "execution_count": 107,
   "metadata": {},
   "outputs": [],
   "source": [
    "with open(f\"{DATASET}_amr/{DATASET}.pkl\", \"rb\") as f:\n",
    "    d =pickle.load(f)"
   ]
  },
  {
   "cell_type": "code",
   "execution_count": 108,
   "metadata": {},
   "outputs": [],
   "source": [
    "train, test = train_test_split(d, stratify=np.array([i['label'] for i in d]), test_size=0.10)"
   ]
  },
  {
   "cell_type": "code",
   "execution_count": 109,
   "metadata": {},
   "outputs": [],
   "source": [
    "with open(f\"{DATASET}_amr/{DATASET}_train.pkl\", \"wb\") as f:\n",
    "    pickle.dump(train, f)\n",
    "with open(f\"{DATASET}_amr/{DATASET}_test.pkl\", \"wb\") as f:\n",
    "    pickle.dump(test, f)"
   ]
  },
  {
   "cell_type": "code",
   "execution_count": null,
   "metadata": {},
   "outputs": [],
   "source": []
  }
 ],
 "metadata": {
  "kernelspec": {
   "display_name": "Python 3 (ipykernel)",
   "language": "python",
   "name": "python3"
  },
  "language_info": {
   "codemirror_mode": {
    "name": "ipython",
    "version": 3
   },
   "file_extension": ".py",
   "mimetype": "text/x-python",
   "name": "python",
   "nbconvert_exporter": "python",
   "pygments_lexer": "ipython3",
   "version": "3.8.10"
  }
 },
 "nbformat": 4,
 "nbformat_minor": 4
}
