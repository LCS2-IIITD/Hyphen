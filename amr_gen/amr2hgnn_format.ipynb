{
 "cells": [
  {
   "cell_type": "code",
   "execution_count": 1,
   "metadata": {},
   "outputs": [
    {
     "data": {
      "text/plain": [
       "'/home/karish19471/btp/amr'"
      ]
     },
     "execution_count": 1,
     "metadata": {},
     "output_type": "execute_result"
    }
   ],
   "source": [
    "pwd"
   ]
  },
  {
   "cell_type": "markdown",
   "metadata": {},
   "source": [
    "### Converting the AMR graphs into the required format"
   ]
  },
  {
   "cell_type": "code",
   "execution_count": 24,
   "metadata": {},
   "outputs": [],
   "source": [
    "import glob\n",
    "import networkx as nx\n",
    "import penman\n",
    "import amrlib\n",
    "import pandas as pd\n",
    "import penman\n",
    "from penman import constant\n",
    "from amrlib.graph_processing.annotator import add_lemmas\n",
    "from amrlib.alignments.rbw_aligner import RBWAligner\n",
    "from penman.models.noop import NoOpModel\n",
    "import ast\n",
    "import pickle\n",
    "import os\n",
    "import dgl\n",
    "import json\n",
    "import numpy as np\n",
    "from sklearn.model_selection import train_test_split"
   ]
  },
  {
   "cell_type": "code",
   "execution_count": 25,
   "metadata": {},
   "outputs": [],
   "source": [
    "DATASET = \"politifact\""
   ]
  },
  {
   "cell_type": "code",
   "execution_count": 28,
   "metadata": {},
   "outputs": [],
   "source": [
    "merged_amr = glob.glob(f\"{DATASET}_amr/{DATASET}_amr_merge/*.amr.penman\")\n",
    "df = pd.read_csv(f'{DATASET}_amr/{DATASET}.tsv', sep = '\\t')"
   ]
  },
  {
   "cell_type": "code",
   "execution_count": 29,
   "metadata": {},
   "outputs": [],
   "source": [
    "def var2word(p_graph):\n",
    "    v2w = {}\n",
    "    for (source, _, target) in p_graph.instances():\n",
    "        v2w[source] = target\n",
    "    return v2w"
   ]
  },
  {
   "cell_type": "code",
   "execution_count": 35,
   "metadata": {},
   "outputs": [],
   "source": [
    "def get_glove():\n",
    "    glove = {}\n",
    "    f = open('pca_embedding_8.txt')\n",
    "    for line in f:\n",
    "        values = line.split()\n",
    "        word = values[0]\n",
    "        coefs = np.asarray(values[1:], dtype='float32')\n",
    "        glove[word] = coefs\n",
    "    return glove"
   ]
  },
  {
   "cell_type": "code",
   "execution_count": 36,
   "metadata": {},
   "outputs": [],
   "source": [
    "def to_dict(d):\n",
    "    return {i: {'feat':j} for i,j in d.items()}"
   ]
  },
  {
   "cell_type": "code",
   "execution_count": 37,
   "metadata": {},
   "outputs": [],
   "source": [
    "def id2label(df):\n",
    "    return dict(zip(df['id'], df['label']))"
   ]
  },
  {
   "cell_type": "code",
   "execution_count": 38,
   "metadata": {},
   "outputs": [],
   "source": [
    "glove = get_glove()"
   ]
  },
  {
   "cell_type": "code",
   "execution_count": 39,
   "metadata": {},
   "outputs": [],
   "source": [
    "i2l = id2label(df)"
   ]
  },
  {
   "cell_type": "code",
   "execution_count": 41,
   "metadata": {},
   "outputs": [
    {
     "name": "stderr",
     "output_type": "stream",
     "text": [
      "ignoring epigraph data for duplicate triple: ('c2-16', ':ARG1', 'c2-9')\n",
      "ignoring epigraph data for duplicate triple: ('c13-0', ':ARG0', 'c13-20')\n",
      "ignoring epigraph data for duplicate triple: ('c13-7', ':ARG0', 'c13-17')\n",
      "ignoring epigraph data for duplicate triple: ('c15-0', ':topic', 'c15-6')\n",
      "ignoring epigraph data for duplicate triple: ('c26-7', ':ARG1', 'c26-0')\n",
      "ignoring epigraph data for duplicate triple: ('c12-5', ':name', 'c12-2')\n",
      "ignoring epigraph data for duplicate triple: ('c37-0', ':ARG1', 'c37-17')\n",
      "ignoring epigraph data for duplicate triple: ('c15-5', ':time', 'c15-2')\n",
      "ignoring epigraph data for duplicate triple: ('c7-2', ':ARG1', 'c7-4')\n",
      "ignoring epigraph data for duplicate triple: ('c38-5', ':ARG0', 'c38-4')\n",
      "ignoring epigraph data for duplicate triple: ('c7-7', ':ARG1', 'c7-6')\n",
      "ignoring epigraph data for duplicate triple: ('c25-26', ':ARG0', 'c25-17')\n",
      "ignoring epigraph data for duplicate triple: ('c25-26', ':ARG1', 'c25-19')\n",
      "ignoring epigraph data for duplicate triple: ('c25-26', ':ARG0', 'c25-17')\n",
      "ignoring epigraph data for duplicate triple: ('c25-26', ':ARG1', 'c25-19')\n",
      "ignoring epigraph data for duplicate triple: ('c25-26', ':ARG0', 'c25-17')\n",
      "ignoring epigraph data for duplicate triple: ('c25-26', ':ARG1', 'c25-19')\n",
      "ignoring epigraph data for duplicate triple: ('c25-26', ':ARG0', 'c25-17')\n",
      "ignoring epigraph data for duplicate triple: ('c25-26', ':ARG1', 'c25-19')\n",
      "ignoring epigraph data for duplicate triple: ('c25-26', ':ARG0', 'c25-17')\n",
      "ignoring epigraph data for duplicate triple: ('c25-26', ':ARG1', 'c25-19')\n",
      "ignoring epigraph data for duplicate triple: ('c25-26', ':ARG0', 'c25-17')\n",
      "ignoring epigraph data for duplicate triple: ('c25-26', ':ARG1', 'c25-19')\n",
      "ignoring epigraph data for duplicate triple: ('c25-26', ':ARG0', 'c25-17')\n",
      "ignoring epigraph data for duplicate triple: ('c25-26', ':ARG1', 'c25-19')\n",
      "ignoring epigraph data for duplicate triple: ('c25-26', ':ARG0', 'c25-17')\n",
      "ignoring epigraph data for duplicate triple: ('c4-17', ':COREF', 'c11-5')\n",
      "ignoring epigraph data for duplicate triple: ('c36-2', ':time', 'c36-4')\n",
      "ignoring epigraph data for duplicate triple: ('c32-26', ':ARG0', 'c32-28')\n",
      "ignoring epigraph data for duplicate triple: ('c32-9', ':ARG1', 'c32-28')\n",
      "ignoring epigraph data for duplicate triple: ('c44-12', ':ARG0', 'c44-10')\n",
      "ignoring epigraph data for duplicate triple: ('c22-6', ':ARG0', 'c22-12')\n",
      "ignoring epigraph data for duplicate triple: ('c22-6', ':purpose', 'c22-6')\n",
      "ignoring epigraph data for duplicate triple: ('c22-6', ':ARG0', 'c22-12')\n",
      "ignoring epigraph data for duplicate triple: ('c2-11', ':ARG1', 'c2-6')\n",
      "ignoring epigraph data for duplicate triple: ('c8-13', ':mod', 'c8-15')\n",
      "ignoring epigraph data for duplicate triple: ('c12-2', ':ARG0', 'c12-3')\n",
      "ignoring epigraph data for duplicate triple: ('c18-0', ':name', 'c18-1')\n",
      "ignoring epigraph data for duplicate triple: ('c44-0', ':name', 'c44-1')\n",
      "ignoring epigraph data for duplicate triple: ('c4-1', ':ARG0', 'c4-0')\n",
      "ignoring epigraph data for duplicate triple: ('c38-4', ':time', 'c38-17')\n",
      "ignoring epigraph data for duplicate triple: ('c8-5', ':ARG0', 'c8-8')\n",
      "ignoring epigraph data for duplicate triple: ('c4-12', ':ARG0', 'c4-11')\n",
      "ignoring epigraph data for duplicate triple: ('c5-15', ':ARG0', 'c5-13')\n",
      "ignoring epigraph data for duplicate triple: ('c6-12', ':ARG0', 'c6-11')\n",
      "ignoring epigraph data for duplicate triple: ('c7-13', ':ARG0', 'c7-12')\n",
      "ignoring epigraph data for duplicate triple: ('c8-16', ':ARG0', 'c8-14')\n",
      "ignoring epigraph data for duplicate triple: ('c14-4', ':ARG0', 'c14-15')\n",
      "ignoring epigraph data for duplicate triple: ('c14-4', ':manner', 'c14-8')\n",
      "ignoring epigraph data for duplicate triple: ('c14-4', ':ARG0', 'c14-15')\n",
      "ignoring epigraph data for duplicate triple: ('c12-2', ':ARG1', 'c12-2')\n",
      "ignoring epigraph data for duplicate triple: ('c12-2', ':ARG0', 'c12-3')\n",
      "ignoring epigraph data for duplicate triple: ('c12-2', ':ARG1', 'c12-2')\n",
      "ignoring epigraph data for duplicate triple: ('c12-2', ':ARG0', 'c12-3')\n",
      "ignoring epigraph data for duplicate triple: ('c12-2', ':ARG1', 'c12-2')\n",
      "ignoring epigraph data for duplicate triple: ('c12-2', ':ARG1', 'c12-2')\n",
      "ignoring epigraph data for duplicate triple: ('c1-2', ':name', 'c1-1')\n",
      "ignoring epigraph data for duplicate triple: ('c11-17', ':ARG1', 'c11-4')\n",
      "ignoring epigraph data for duplicate triple: ('c33-6', ':ARG1', 'c33-14')\n",
      "ignoring epigraph data for duplicate triple: ('c8-3', ':ARG0', 'c8-1')\n",
      "ignoring epigraph data for duplicate triple: ('c8-3', ':ARG1', 'c8-3')\n",
      "ignoring epigraph data for duplicate triple: ('c43-10', ':ARG1', 'c43-18')\n",
      "ignoring epigraph data for duplicate triple: ('c3-7', ':mod', 'c3-2')\n",
      "ignoring epigraph data for duplicate triple: ('c25-2', ':ARG0', 'c25-26')\n",
      "ignoring epigraph data for duplicate triple: ('c19-10', ':ARG0', 'c19-13')\n",
      "ignoring epigraph data for duplicate triple: ('c19-10', ':ARG1', 'c19-10')\n",
      "ignoring epigraph data for duplicate triple: ('c30-2', ':ARG0', 'c30-3')\n",
      "ignoring epigraph data for duplicate triple: ('c47-2', ':mod', 'c47-9')\n",
      "ignoring epigraph data for duplicate triple: ('c50-11', ':ARG1', 'c50-5')\n",
      "ignoring epigraph data for duplicate triple: ('c26-17', ':ARG0', 'c26-15')\n",
      "ignoring epigraph data for duplicate triple: ('c24-13', ':polarity', '-')\n",
      "ignoring epigraph data for duplicate triple: ('c15-0', ':name', 'c15-1')\n",
      "ignoring epigraph data for duplicate triple: ('c36-2', ':time', 'c36-4')\n",
      "ignoring epigraph data for duplicate triple: ('c3-9', ':mod', 'c3-1')\n",
      "ignoring epigraph data for duplicate triple: ('c6-6', ':mod', 'c6-11')\n",
      "ignoring epigraph data for duplicate triple: ('c1-11', ':COREF', 'c3-0')\n",
      "ignoring epigraph data for duplicate triple: ('c42-4', ':domain', 'c42-17')\n",
      "ignoring epigraph data for duplicate triple: ('c37-2', ':ARG1', 'c37-3')\n",
      "ignoring epigraph data for duplicate triple: ('c2-6', ':COREF', 'c4-7')\n",
      "ignoring epigraph data for duplicate triple: ('c16-13', ':ARG0', 'c16-14')\n",
      "ignoring epigraph data for duplicate triple: ('c16-13', ':ARG0', 'c16-14')\n",
      "ignoring epigraph data for duplicate triple: ('c16-5', ':ARG0', 'c16-14')\n",
      "ignoring epigraph data for duplicate triple: ('c16-5', ':ARG0', 'c16-14')\n",
      "ignoring epigraph data for duplicate triple: ('c16-5', ':ARG0', 'c16-14')\n",
      "ignoring epigraph data for duplicate triple: ('c19-2', ':ARG0', 'c19-4')\n",
      "ignoring epigraph data for duplicate triple: ('c23-3', ':ARG0', 'c23-15')\n",
      "ignoring epigraph data for duplicate triple: ('c3-13', ':ARG1', 'c3-3')\n",
      "ignoring epigraph data for duplicate triple: ('c37-10', ':ARG0', 'c37-9')\n",
      "ignoring epigraph data for duplicate triple: ('c4-12', ':COREF', 'c5-12')\n",
      "ignoring epigraph data for duplicate triple: ('c1-6', ':ARG0', 'c1-15')\n",
      "ignoring epigraph data for duplicate triple: ('c6-19', ':ARG2', 'c6-7')\n",
      "ignoring epigraph data for duplicate triple: ('c11-1', ':ARG0', 'c11-7')\n",
      "ignoring epigraph data for duplicate triple: ('c11-1', ':mode', 'imperative')\n",
      "ignoring epigraph data for duplicate triple: ('c11-1', ':mode', 'imperative')\n",
      "ignoring epigraph data for duplicate triple: ('c36-1', ':ARG1', 'c36-5')\n",
      "ignoring epigraph data for duplicate triple: ('c37-17', ':ARG1', 'c37-2')\n",
      "ignoring epigraph data for duplicate triple: ('c6-1', ':month', '3')\n",
      "ignoring epigraph data for duplicate triple: ('c11-6', ':ARG0', 'c11-5')\n",
      "ignoring epigraph data for duplicate triple: ('c24-13', ':mod', 'c24-4')\n",
      "ignoring epigraph data for duplicate triple: ('c41-20', ':ARG0', 'c41-28')\n",
      "ignoring epigraph data for duplicate triple: ('c1-11', ':ARG0', 'c1-9')\n",
      "ignoring epigraph data for duplicate triple: ('c28-17', ':ARG0', 'c28-2')\n",
      "ignoring epigraph data for duplicate triple: ('c43-13', ':ARG0', 'c43-12')\n",
      "ignoring epigraph data for duplicate triple: ('c43-13', ':ARG1', 'c43-5')\n",
      "ignoring epigraph data for duplicate triple: ('c21-5', ':domain', 'c21-10')\n",
      "ignoring epigraph data for duplicate triple: ('c21-5', ':ARG0', 'c21-20')\n",
      "ignoring epigraph data for duplicate triple: ('c7-4', ':ARG0', 'c7-8')\n",
      "ignoring epigraph data for duplicate triple: ('c38-6', ':mod', '63_6')\n",
      "ignoring epigraph data for duplicate triple: ('c38-6', ':mod', '63_7')\n",
      "ignoring epigraph data for duplicate triple: ('c38-6', ':ARG1', '63_7')\n",
      "ignoring epigraph data for duplicate triple: ('c38-6', ':mod', '63_8')\n",
      "ignoring epigraph data for duplicate triple: ('c38-6', ':ARG1', '63_7')\n",
      "ignoring epigraph data for duplicate triple: ('c38-6', ':mod', '63_9')\n",
      "ignoring epigraph data for duplicate triple: ('c38-6', ':ARG1', '63_7')\n",
      "ignoring epigraph data for duplicate triple: ('c38-6', ':mod', '63_8')\n",
      "ignoring epigraph data for duplicate triple: ('c38-6', ':ARG1', '63_7')\n",
      "ignoring epigraph data for duplicate triple: ('c38-6', ':mod', '63_9')\n",
      "ignoring epigraph data for duplicate triple: ('c38-6', ':ARG1', '63_7')\n",
      "ignoring epigraph data for duplicate triple: ('c38-6', ':mod', '63_8')\n",
      "ignoring epigraph data for duplicate triple: ('c38-6', ':ARG1', '63_7')\n",
      "ignoring epigraph data for duplicate triple: ('c39-0', ':name', 'c39-1')\n",
      "ignoring epigraph data for duplicate triple: ('c41-3', ':ARG1', 'c41-1')\n",
      "ignoring epigraph data for duplicate triple: ('c50-16', ':ARG1', 'c50-0')\n",
      "ignoring epigraph data for duplicate triple: ('c4-14', ':ARG0', 'c4-17')\n",
      "cannot deinvert attribute: ('c45-2', ':ARG1-of', '\" ) ) ) ) :snt2 ( publication :name ( name_2 :op1 \"')\n",
      "ignoring epigraph data for duplicate triple: ('c34-0', ':name', 'c34-1')\n",
      "ignoring epigraph data for duplicate triple: ('c11-6', ':ARG1', 'c11-12')\n",
      "ignoring epigraph data for duplicate triple: ('c47-1', ':condition', 'c47-4')\n",
      "ignoring epigraph data for duplicate triple: ('c1-2', ':mod', 'c1-9')\n",
      "ignoring epigraph data for duplicate triple: ('c1-5', ':ARG1', 'c1-6')\n",
      "ignoring epigraph data for duplicate triple: ('c35-6', ':ARG1', 'c35-2')\n",
      "ignoring epigraph data for duplicate triple: ('c17-25', ':ARG0', 'c17-3')\n",
      "ignoring epigraph data for duplicate triple: ('c28-5', ':ARG2', '-')\n",
      "ignoring epigraph data for duplicate triple: ('c28-5', ':ARG2', '-')\n",
      "ignoring epigraph data for duplicate triple: ('c28-5', ':ARG2', '-')\n",
      "ignoring epigraph data for duplicate triple: ('c2-0', ':ARG0', 'c2-14')\n",
      "ignoring epigraph data for duplicate triple: ('c32-6', ':mod', 'c32-1')\n",
      "ignoring epigraph data for duplicate triple: ('c41-8', ':ARG1', 'c41-5')\n",
      "ignoring epigraph data for duplicate triple: ('c50-11', ':ARG0', 'c50-10')\n",
      "ignoring epigraph data for duplicate triple: ('c16-12', ':mod', 'c16-10')\n",
      "ignoring epigraph data for duplicate triple: ('c17-12', ':ARG1', 'c17-0')\n",
      "ignoring epigraph data for duplicate triple: ('c3-2', ':mod', 'c3-2')\n",
      "ignoring epigraph data for duplicate triple: ('c41-13', ':COREF', 'c43-18')\n",
      "ignoring epigraph data for duplicate triple: ('c3-3', ':ARG0', 'c3-2')\n",
      "ignoring epigraph data for duplicate triple: ('c46-5', ':ARG0', 'c46-4')\n",
      "ignoring epigraph data for duplicate triple: ('c14-14', ':COREF', 'c17-11')\n",
      "ignoring epigraph data for duplicate triple: ('c50-14', ':domain', 'c50-4')\n",
      "ignoring epigraph data for duplicate triple: ('c49-11', ':ARG0', 'c49-7')\n",
      "ignoring epigraph data for duplicate triple: ('c40-13', ':ARG1', 'c40-23')\n",
      "ignoring epigraph data for duplicate triple: ('c45-4', ':ARG0', 'c45-10')\n",
      "ignoring epigraph data for duplicate triple: ('c10-0', ':ARG0', 'c10-0')\n",
      "ignoring epigraph data for duplicate triple: ('c14-8', ':ARG1', 'c14-1')\n",
      "ignoring epigraph data for duplicate triple: ('c16-3', ':ARG0', 'c16-5')\n",
      "ignoring epigraph data for duplicate triple: ('c16-3', ':polarity', '-')\n",
      "ignoring epigraph data for duplicate triple: ('c10-13', ':ARG0', 'c10-34')\n",
      "ignoring epigraph data for duplicate triple: ('c28-6', ':COREF', 'c33-11')\n",
      "ignoring epigraph data for duplicate triple: ('c36-10', ':polarity', '-')\n",
      "ignoring epigraph data for duplicate triple: ('c49-2', ':COREF', 'c50-12')\n",
      "ignoring epigraph data for duplicate triple: ('c1-10', ':mod', 'c1-12')\n",
      "ignoring epigraph data for duplicate triple: ('c40-9', ':time', 'c40-10')\n",
      "ignoring epigraph data for duplicate triple: ('c40-3', ':ARG2', 'c40-3')\n",
      "ignoring epigraph data for duplicate triple: ('c40-3', ':ARG1', 'c40-6')\n",
      "ignoring epigraph data for duplicate triple: ('c1-13', ':COREF', 'c2-17')\n"
     ]
    }
   ],
   "source": [
    "EMBEDDING_DIM = 8\n",
    "dataset = []\n",
    "for curr in merged_amr:\n",
    "    p_graph = penman.load(curr, model = NoOpModel())[0]\n",
    "    name = curr[curr.rfind('/')+1:curr.rfind('.amr')]\n",
    "    v2w = var2word(p_graph)\n",
    "    nx_graph = nx.MultiDiGraph()\n",
    "    nx_graph.add_edges_from([(s, t) for s, _, t in p_graph.edges()])#TODO: Add edges from instances as well\n",
    "    MAP = {i:glove.get(v2w[i], [0]*EMBEDDING_DIM) for i in nx_graph.nodes()}\n",
    "    attr= to_dict(MAP)\n",
    "    nx.set_node_attributes(nx_graph, attr)\n",
    "    dgl_graph = dgl.from_networkx(nx_graph, node_attrs=['feat'])\n",
    "    (source, target) = dgl_graph.edges()\n",
    "    node_features = dgl_graph.ndata['feat'].numpy().tolist()\n",
    "    graph = [[s.item(), 1, t.item()] for i, (s, t) in enumerate(list(zip(source, target)))]\n",
    "    targets = [i2l[name]]\n",
    "    sample = {'targets':targets, 'graph': graph, 'node_features':node_features}\n",
    "    dataset.append(sample)\n",
    "\n",
    "\n",
    "with open(f\"{DATASET}_amr/{DATASET}.json\", \"w\") as f:\n",
    "    json.dump(dataset, f)"
   ]
  },
  {
   "cell_type": "code",
   "execution_count": 42,
   "metadata": {},
   "outputs": [],
   "source": [
    "with open(f\"{DATASET}_amr/{DATASET}.json\", \"r\") as f:\n",
    "    d = json.load(f)\n",
    "df = pd.DataFrame(d)\n",
    "train, test = train_test_split(df, stratify = df['targets'], test_size=0.10)"
   ]
  },
  {
   "cell_type": "code",
   "execution_count": 44,
   "metadata": {},
   "outputs": [],
   "source": [
    "def data(mode, df):\n",
    "    sample = []\n",
    "    for i, j in df.iterrows():\n",
    "        sample.append({'targets': j['targets'], 'graph':j['graph'], 'node_features': j['node_features']})\n",
    "    with open(f\"{DATASET}_amr/{DATASET}.{mode}.json\", \"w\") as f:\n",
    "        json.dump(sample, f)"
   ]
  },
  {
   "cell_type": "code",
   "execution_count": 45,
   "metadata": {},
   "outputs": [],
   "source": [
    "data('train', train)\n",
    "data('test', test)"
   ]
  }
 ],
 "metadata": {
  "kernelspec": {
   "display_name": "Python 3 (ipykernel)",
   "language": "python",
   "name": "python3"
  },
  "language_info": {
   "codemirror_mode": {
    "name": "ipython",
    "version": 3
   },
   "file_extension": ".py",
   "mimetype": "text/x-python",
   "name": "python",
   "nbconvert_exporter": "python",
   "pygments_lexer": "ipython3",
   "version": "3.8.10"
  }
 },
 "nbformat": 4,
 "nbformat_minor": 4
}
